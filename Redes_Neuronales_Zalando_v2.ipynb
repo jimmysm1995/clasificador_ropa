{
 "cells": [
  {
   "cell_type": "code",
   "metadata": {
    "colab": {
     "base_uri": "https://localhost:8080/"
    },
    "id": "kUrZUwCQVZqZ",
    "outputId": "7c444003-4a3b-4216-d181-45827fe43dbd",
    "ExecuteTime": {
     "end_time": "2024-12-16T07:40:20.399019Z",
     "start_time": "2024-12-16T07:39:37.085289Z"
    }
   },
   "source": [
    "import tensorflow as tf\n",
    "\n",
    "# Helper libraries\n",
    "import numpy as np\n",
    "import matplotlib.pyplot as plt\n",
    "\n",
    "(train_images, train_labels), (test_images, test_labels) = tf.keras.datasets.fashion_mnist.load_data()\n"
   ],
   "outputs": [
    {
     "name": "stdout",
     "output_type": "stream",
     "text": [
      "Downloading data from https://storage.googleapis.com/tensorflow/tf-keras-datasets/train-labels-idx1-ubyte.gz\n",
      "\u001B[1m29515/29515\u001B[0m \u001B[32m━━━━━━━━━━━━━━━━━━━━\u001B[0m\u001B[37m\u001B[0m \u001B[1m0s\u001B[0m 2us/step\n",
      "Downloading data from https://storage.googleapis.com/tensorflow/tf-keras-datasets/train-images-idx3-ubyte.gz\n",
      "\u001B[1m26421880/26421880\u001B[0m \u001B[32m━━━━━━━━━━━━━━━━━━━━\u001B[0m\u001B[37m\u001B[0m \u001B[1m7s\u001B[0m 0us/step\n",
      "Downloading data from https://storage.googleapis.com/tensorflow/tf-keras-datasets/t10k-labels-idx1-ubyte.gz\n",
      "\u001B[1m5148/5148\u001B[0m \u001B[32m━━━━━━━━━━━━━━━━━━━━\u001B[0m\u001B[37m\u001B[0m \u001B[1m0s\u001B[0m 0us/step\n",
      "Downloading data from https://storage.googleapis.com/tensorflow/tf-keras-datasets/t10k-images-idx3-ubyte.gz\n",
      "\u001B[1m4422102/4422102\u001B[0m \u001B[32m━━━━━━━━━━━━━━━━━━━━\u001B[0m\u001B[37m\u001B[0m \u001B[1m1s\u001B[0m 0us/step\n"
     ]
    }
   ],
   "execution_count": 2
  },
  {
   "cell_type": "code",
   "metadata": {
    "colab": {
     "base_uri": "https://localhost:8080/"
    },
    "id": "GQf_QZKzWmkL",
    "outputId": "5590c9e8-1e66-4016-992d-fe44cb727b37",
    "ExecuteTime": {
     "end_time": "2024-12-16T07:40:20.421306Z",
     "start_time": "2024-12-16T07:40:20.413563Z"
    }
   },
   "source": [
    "# Output: (60000, 28, 28)\n",
    "print(train_images.shape)"
   ],
   "outputs": [
    {
     "name": "stdout",
     "output_type": "stream",
     "text": [
      "(60000, 28, 28)\n"
     ]
    }
   ],
   "execution_count": 3
  },
  {
   "cell_type": "code",
   "metadata": {
    "colab": {
     "base_uri": "https://localhost:8080/"
    },
    "id": "B83zFYh_WqMk",
    "outputId": "7c8f51f8-9844-4ff4-a6c8-74e5d14b293e",
    "ExecuteTime": {
     "end_time": "2024-12-16T07:40:20.719963Z",
     "start_time": "2024-12-16T07:40:20.708811Z"
    }
   },
   "source": [
    "# Output: 60000\n",
    "print(len(train_labels))"
   ],
   "outputs": [
    {
     "name": "stdout",
     "output_type": "stream",
     "text": [
      "60000\n"
     ]
    }
   ],
   "execution_count": 4
  },
  {
   "cell_type": "code",
   "metadata": {
    "colab": {
     "base_uri": "https://localhost:8080/"
    },
    "id": "qcV1qrjMWuE7",
    "outputId": "f0568907-dc90-40fa-b0eb-2cbb74fdc796",
    "ExecuteTime": {
     "end_time": "2024-12-16T07:40:20.874589Z",
     "start_time": "2024-12-16T07:40:20.867545Z"
    }
   },
   "source": [
    "# Output: (10000, 28, 28)\n",
    "print(test_images.shape)"
   ],
   "outputs": [
    {
     "name": "stdout",
     "output_type": "stream",
     "text": [
      "(10000, 28, 28)\n"
     ]
    }
   ],
   "execution_count": 5
  },
  {
   "cell_type": "code",
   "metadata": {
    "colab": {
     "base_uri": "https://localhost:8080/"
    },
    "id": "YIY8ZIiCWxtl",
    "outputId": "8a29dbc3-8246-411c-814f-61fc5179de66",
    "ExecuteTime": {
     "end_time": "2024-12-16T07:40:20.940021Z",
     "start_time": "2024-12-16T07:40:20.931584Z"
    }
   },
   "source": [
    "\n",
    "# Output: 1000\n",
    "print(len(test_labels))"
   ],
   "outputs": [
    {
     "name": "stdout",
     "output_type": "stream",
     "text": [
      "10000\n"
     ]
    }
   ],
   "execution_count": 6
  },
  {
   "cell_type": "code",
   "metadata": {
    "colab": {
     "base_uri": "https://localhost:8080/"
    },
    "id": "lFEAPvKxW7p_",
    "outputId": "6c795398-f28f-4aba-fb2a-75db8333ead7",
    "ExecuteTime": {
     "end_time": "2024-12-16T07:40:21.006050Z",
     "start_time": "2024-12-16T07:40:20.988762Z"
    }
   },
   "source": [
    "# Output: array([0, 1, 2, 3, 4, 5, 6, 7, 8, 9], dtype=uint8)\n",
    "print(np.unique(train_labels))"
   ],
   "outputs": [
    {
     "name": "stdout",
     "output_type": "stream",
     "text": [
      "[0 1 2 3 4 5 6 7 8 9]\n"
     ]
    }
   ],
   "execution_count": 7
  },
  {
   "cell_type": "code",
   "metadata": {
    "colab": {
     "base_uri": "https://localhost:8080/"
    },
    "id": "AeAKRiaGW9gq",
    "outputId": "34a08e29-70b8-42fb-f2cb-0db49fd1579d",
    "ExecuteTime": {
     "end_time": "2024-12-16T07:40:21.049495Z",
     "start_time": "2024-12-16T07:40:21.040090Z"
    }
   },
   "source": [
    "print(\"Elemento 125:\", train_labels[125])"
   ],
   "outputs": [
    {
     "name": "stdout",
     "output_type": "stream",
     "text": [
      "Elemento 125: 2\n"
     ]
    }
   ],
   "execution_count": 8
  },
  {
   "cell_type": "code",
   "metadata": {
    "colab": {
     "base_uri": "https://localhost:8080/",
     "height": 430
    },
    "id": "xlk92xf_XQSr",
    "outputId": "00f594f9-8c92-42ef-b799-f9e6ebe3e729",
    "ExecuteTime": {
     "end_time": "2024-12-16T07:40:21.943839Z",
     "start_time": "2024-12-16T07:40:21.085544Z"
    }
   },
   "source": [
    "plt.figure()\n",
    "plt.imshow(train_images[125])\n",
    "plt.colorbar()\n",
    "plt.grid(False)\n",
    "plt.show()"
   ],
   "outputs": [
    {
     "data": {
      "text/plain": [
       "<Figure size 640x480 with 2 Axes>"
      ],
      "image/png": "[encoded data removed]"
     },
     "metadata": {},
     "output_type": "display_data"
    }
   ],
   "execution_count": 9
  },
  {
   "cell_type": "code",
   "metadata": {
    "colab": {
     "base_uri": "https://localhost:8080/"
    },
    "id": "aXsci44fYUw6",
    "outputId": "79b970da-e7bc-4fae-d3d3-e174df81eb8a",
    "ExecuteTime": {
     "end_time": "2024-12-16T07:40:21.995603Z",
     "start_time": "2024-12-16T07:40:21.979142Z"
    }
   },
   "source": [
    "print(\"Max value:\", max(train_images[125].reshape(784)))\n",
    "print(\"Min value:\", min(train_images[125].reshape(784)))\n",
    "print(\"Elemento 125:\", train_images[125])\n",
    "print(\"Elemento 125:\", train_images[125].reshape(784))"
   ],
   "outputs": [
    {
     "name": "stdout",
     "output_type": "stream",
     "text": [
      "Max value: 255\n",
      "Min value: 0\n",
      "Elemento 125: [[  0   0   0   0   0   0   0   0  13  45  48  14   0   0   0   0   0  47\n",
      "   52  33   1   0   0   1   0   0   0   0]\n",
      " [  0   0   0   0   1   0  13  75  84  67  55  55  39  64 230  83  79  66\n",
      "   51  74  80  49   0   0   0   0   0   0]\n",
      " [  0   0   0   0   0   1  74  46  34  23  20  17  11  10  24   4   2   9\n",
      "   29  35  37  60  51   0   1   0   0   0]\n",
      " [  0   0   0   0   0  34  65   0   0   0   0  13  14   0   0   0   0   0\n",
      "    0   0   0  10  55  11   0   0   0   0]\n",
      " [  0   0   0   0   0  58  16  30 202 239 255 255 255 255 255 255 254 234\n",
      "  216 184  97   0  31  33   0   0   0   0]\n",
      " [  0   0   0   0   0  64   0 225 251 233 234 233 232 233 235 234 236 238\n",
      "  238 239 254 135   0  52   0   0   0   0]\n",
      " [  0   0   0   0   0   3  13 255 221 226 229 230 229 229 230 229 227 226\n",
      "  223 220 229 244   0  10   0   0   0   0]\n",
      " [  0   0   0   0  14 184 128 255 224 225 230 232 231 231 232 230 231 230\n",
      "  229 222 234 255   0  78   0   0   0   0]\n",
      " [  0   0   0   0   0 255 234 234 222 219 221 218 220 223 223 222 220 219\n",
      "  220 218 233 229 235 255   0   0   0   0]\n",
      " [  0   0   0   0  34 225 221 235 238 255 255 255 255 255 255 255 255 255\n",
      "  255 239 230 239 237 249   0   0   0   0]\n",
      " [  0   0   0   0  85 236 225 209 197 178 123  99  72  52  42  60  85 123\n",
      "  164 241 238 228 225 224   7   0   0   0]\n",
      " [  0   0   0   0  98 222 245 213   0   0   0   0   0   0   0   0   0   0\n",
      "    0   0  35 222 245 250  65   0   0   0]\n",
      " [  0   0   0   0   0   3  42  49  12  36  35  30  26  22  21  22  22  19\n",
      "   18  16   0 165 203 188  46   0   0   0]\n",
      " [  0   0   0   0  33  12   0   0  23  40  29  23  19  17  17  17  15  16\n",
      "   13  27   9   0   0   0   0   0   0   0]\n",
      " [  0   0   0   0  43  25  23  14  35  39  30  21  20  18  16  16  15  15\n",
      "   17  25  10  26  44  32  18   0   0   0]\n",
      " [  0   0   0   0  40  24  19   3  38  39  36  23  25  22  20  19  17  18\n",
      "   19  28  17  10  49  30  25   0   0   0]\n",
      " [  0   0   0   0  44  25  25   4  33   0   0   0   0   0   0   0   0   0\n",
      "    0   0   0   8  54  24  24   0   0   0]\n",
      " [  0   0   0   0  25   5   3   2 227 181 157 160 164 164 170 174 178 183\n",
      "  175 188 143   0  70  28  27   0   0   0]\n",
      " [  0   0   0   0  27   0  27   0 255 243 241 242 244 242 242 241 239 240\n",
      "  241 247 239   0  36   0   0   0   0   0]\n",
      " [  0   0   0   0 192 255 255   0 243 227 223 220 219 219 223 219 216 220\n",
      "  225 228 231   0 220 155  72   0   0   0]\n",
      " [  0   0   0   0 179 236 238   0 238 237 227 230 229 229 231 228 227 232\n",
      "  232 239 250   0 255 255 156   0   0   0]\n",
      " [  0   0   0   0 167 234 222   0 233 240 229 230 230 230 230 228 229 232\n",
      "  232 236 255   0 204 248 118   0   0   0]\n",
      " [  0   0   0   0 160 255 212   0 231 231 227 227 221 221 222 221 221 224\n",
      "  228 228 255   0 186 251 140   0   0   0]\n",
      " [  0   0   0   0 138 243 211   0 233 255 241 245 245 245 244 244 244 247\n",
      "  248 253 255   0 170 254 145   0   0   0]\n",
      " [  0   0   0   0 138 245 206   0  41 163 168 169 159 155 165 163 166 151\n",
      "  142 150 145   0 166 254 151   0   0   0]\n",
      " [  0   0   0   0 168 246 187   0   0   0   0   0   0   0   0   0   0   0\n",
      "    0   0   0   0 153 253 149   0   0   0]\n",
      " [  0   0   0   0 180 251 192   0   1   3   0   0   0   1   0   0   0   1\n",
      "    2   3   7   0 163 255 191   0   0   0]\n",
      " [  0   0   0   0   4  58  20   0   0   0   0   0   0   0   0   0   0   0\n",
      "    0   0   1   0  76 181  92   0   0   0]]\n",
      "Elemento 125: [  0   0   0   0   0   0   0   0  13  45  48  14   0   0   0   0   0  47\n",
      "  52  33   1   0   0   1   0   0   0   0   0   0   0   0   1   0  13  75\n",
      "  84  67  55  55  39  64 230  83  79  66  51  74  80  49   0   0   0   0\n",
      "   0   0   0   0   0   0   0   1  74  46  34  23  20  17  11  10  24   4\n",
      "   2   9  29  35  37  60  51   0   1   0   0   0   0   0   0   0   0  34\n",
      "  65   0   0   0   0  13  14   0   0   0   0   0   0   0   0  10  55  11\n",
      "   0   0   0   0   0   0   0   0   0  58  16  30 202 239 255 255 255 255\n",
      " 255 255 254 234 216 184  97   0  31  33   0   0   0   0   0   0   0   0\n",
      "   0  64   0 225 251 233 234 233 232 233 235 234 236 238 238 239 254 135\n",
      "   0  52   0   0   0   0   0   0   0   0   0   3  13 255 221 226 229 230\n",
      " 229 229 230 229 227 226 223 220 229 244   0  10   0   0   0   0   0   0\n",
      "   0   0  14 184 128 255 224 225 230 232 231 231 232 230 231 230 229 222\n",
      " 234 255   0  78   0   0   0   0   0   0   0   0   0 255 234 234 222 219\n",
      " 221 218 220 223 223 222 220 219 220 218 233 229 235 255   0   0   0   0\n",
      "   0   0   0   0  34 225 221 235 238 255 255 255 255 255 255 255 255 255\n",
      " 255 239 230 239 237 249   0   0   0   0   0   0   0   0  85 236 225 209\n",
      " 197 178 123  99  72  52  42  60  85 123 164 241 238 228 225 224   7   0\n",
      "   0   0   0   0   0   0  98 222 245 213   0   0   0   0   0   0   0   0\n",
      "   0   0   0   0  35 222 245 250  65   0   0   0   0   0   0   0   0   3\n",
      "  42  49  12  36  35  30  26  22  21  22  22  19  18  16   0 165 203 188\n",
      "  46   0   0   0   0   0   0   0  33  12   0   0  23  40  29  23  19  17\n",
      "  17  17  15  16  13  27   9   0   0   0   0   0   0   0   0   0   0   0\n",
      "  43  25  23  14  35  39  30  21  20  18  16  16  15  15  17  25  10  26\n",
      "  44  32  18   0   0   0   0   0   0   0  40  24  19   3  38  39  36  23\n",
      "  25  22  20  19  17  18  19  28  17  10  49  30  25   0   0   0   0   0\n",
      "   0   0  44  25  25   4  33   0   0   0   0   0   0   0   0   0   0   0\n",
      "   0   8  54  24  24   0   0   0   0   0   0   0  25   5   3   2 227 181\n",
      " 157 160 164 164 170 174 178 183 175 188 143   0  70  28  27   0   0   0\n",
      "   0   0   0   0  27   0  27   0 255 243 241 242 244 242 242 241 239 240\n",
      " 241 247 239   0  36   0   0   0   0   0   0   0   0   0 192 255 255   0\n",
      " 243 227 223 220 219 219 223 219 216 220 225 228 231   0 220 155  72   0\n",
      "   0   0   0   0   0   0 179 236 238   0 238 237 227 230 229 229 231 228\n",
      " 227 232 232 239 250   0 255 255 156   0   0   0   0   0   0   0 167 234\n",
      " 222   0 233 240 229 230 230 230 230 228 229 232 232 236 255   0 204 248\n",
      " 118   0   0   0   0   0   0   0 160 255 212   0 231 231 227 227 221 221\n",
      " 222 221 221 224 228 228 255   0 186 251 140   0   0   0   0   0   0   0\n",
      " 138 243 211   0 233 255 241 245 245 245 244 244 244 247 248 253 255   0\n",
      " 170 254 145   0   0   0   0   0   0   0 138 245 206   0  41 163 168 169\n",
      " 159 155 165 163 166 151 142 150 145   0 166 254 151   0   0   0   0   0\n",
      "   0   0 168 246 187   0   0   0   0   0   0   0   0   0   0   0   0   0\n",
      "   0   0 153 253 149   0   0   0   0   0   0   0 180 251 192   0   1   3\n",
      "   0   0   0   1   0   0   0   1   2   3   7   0 163 255 191   0   0   0\n",
      "   0   0   0   0   4  58  20   0   0   0   0   0   0   0   0   0   0   0\n",
      "   0   0   1   0  76 181  92   0   0   0]\n"
     ]
    }
   ],
   "execution_count": 10
  },
  {
   "cell_type": "code",
   "metadata": {
    "id": "ltPQxFTPYvrO",
    "ExecuteTime": {
     "end_time": "2024-12-16T07:40:22.422432Z",
     "start_time": "2024-12-16T07:40:22.028424Z"
    }
   },
   "source": [
    "train_images = train_images / 255.0\n",
    "test_images = test_images / 255.0"
   ],
   "outputs": [],
   "execution_count": 11
  },
  {
   "cell_type": "code",
   "metadata": {
    "colab": {
     "base_uri": "https://localhost:8080/"
    },
    "id": "7uh_rIyoY6be",
    "outputId": "c8f04d86-20c2-4a46-b506-56c09bd44bcd",
    "ExecuteTime": {
     "end_time": "2024-12-16T07:40:22.530023Z",
     "start_time": "2024-12-16T07:40:22.471580Z"
    }
   },
   "source": [
    "print(\"Max value:\", max(train_images[125].reshape(784)))\n",
    "print(\"Min value:\", min(train_images[125].reshape(784)))\n",
    "\n",
    "x_train = train_images.reshape(60000, 784)\n",
    "x_test = test_images.reshape(10000, 784)\n",
    "print(\"Elemento 125:\", train_images[125])\n",
    "print(\"Elemento 125:\", train_images[125].reshape(784))"
   ],
   "outputs": [
    {
     "name": "stdout",
     "output_type": "stream",
     "text": [
      "Max value: 1.0\n",
      "Min value: 0.0\n",
      "Elemento 125: [[0.         0.         0.         0.         0.         0.\n",
      "  0.         0.         0.05098039 0.17647059 0.18823529 0.05490196\n",
      "  0.         0.         0.         0.         0.         0.18431373\n",
      "  0.20392157 0.12941176 0.00392157 0.         0.         0.00392157\n",
      "  0.         0.         0.         0.        ]\n",
      " [0.         0.         0.         0.         0.00392157 0.\n",
      "  0.05098039 0.29411765 0.32941176 0.2627451  0.21568627 0.21568627\n",
      "  0.15294118 0.25098039 0.90196078 0.3254902  0.30980392 0.25882353\n",
      "  0.2        0.29019608 0.31372549 0.19215686 0.         0.\n",
      "  0.         0.         0.         0.        ]\n",
      " [0.         0.         0.         0.         0.         0.00392157\n",
      "  0.29019608 0.18039216 0.13333333 0.09019608 0.07843137 0.06666667\n",
      "  0.04313725 0.03921569 0.09411765 0.01568627 0.00784314 0.03529412\n",
      "  0.11372549 0.1372549  0.14509804 0.23529412 0.2        0.\n",
      "  0.00392157 0.         0.         0.        ]\n",
      " [0.         0.         0.         0.         0.         0.13333333\n",
      "  0.25490196 0.         0.         0.         0.         0.05098039\n",
      "  0.05490196 0.         0.         0.         0.         0.\n",
      "  0.         0.         0.         0.03921569 0.21568627 0.04313725\n",
      "  0.         0.         0.         0.        ]\n",
      " [0.         0.         0.         0.         0.         0.22745098\n",
      "  0.0627451  0.11764706 0.79215686 0.9372549  1.         1.\n",
      "  1.         1.         1.         1.         0.99607843 0.91764706\n",
      "  0.84705882 0.72156863 0.38039216 0.         0.12156863 0.12941176\n",
      "  0.         0.         0.         0.        ]\n",
      " [0.         0.         0.         0.         0.         0.25098039\n",
      "  0.         0.88235294 0.98431373 0.91372549 0.91764706 0.91372549\n",
      "  0.90980392 0.91372549 0.92156863 0.91764706 0.9254902  0.93333333\n",
      "  0.93333333 0.9372549  0.99607843 0.52941176 0.         0.20392157\n",
      "  0.         0.         0.         0.        ]\n",
      " [0.         0.         0.         0.         0.         0.01176471\n",
      "  0.05098039 1.         0.86666667 0.88627451 0.89803922 0.90196078\n",
      "  0.89803922 0.89803922 0.90196078 0.89803922 0.89019608 0.88627451\n",
      "  0.8745098  0.8627451  0.89803922 0.95686275 0.         0.03921569\n",
      "  0.         0.         0.         0.        ]\n",
      " [0.         0.         0.         0.         0.05490196 0.72156863\n",
      "  0.50196078 1.         0.87843137 0.88235294 0.90196078 0.90980392\n",
      "  0.90588235 0.90588235 0.90980392 0.90196078 0.90588235 0.90196078\n",
      "  0.89803922 0.87058824 0.91764706 1.         0.         0.30588235\n",
      "  0.         0.         0.         0.        ]\n",
      " [0.         0.         0.         0.         0.         1.\n",
      "  0.91764706 0.91764706 0.87058824 0.85882353 0.86666667 0.85490196\n",
      "  0.8627451  0.8745098  0.8745098  0.87058824 0.8627451  0.85882353\n",
      "  0.8627451  0.85490196 0.91372549 0.89803922 0.92156863 1.\n",
      "  0.         0.         0.         0.        ]\n",
      " [0.         0.         0.         0.         0.13333333 0.88235294\n",
      "  0.86666667 0.92156863 0.93333333 1.         1.         1.\n",
      "  1.         1.         1.         1.         1.         1.\n",
      "  1.         0.9372549  0.90196078 0.9372549  0.92941176 0.97647059\n",
      "  0.         0.         0.         0.        ]\n",
      " [0.         0.         0.         0.         0.33333333 0.9254902\n",
      "  0.88235294 0.81960784 0.77254902 0.69803922 0.48235294 0.38823529\n",
      "  0.28235294 0.20392157 0.16470588 0.23529412 0.33333333 0.48235294\n",
      "  0.64313725 0.94509804 0.93333333 0.89411765 0.88235294 0.87843137\n",
      "  0.02745098 0.         0.         0.        ]\n",
      " [0.         0.         0.         0.         0.38431373 0.87058824\n",
      "  0.96078431 0.83529412 0.         0.         0.         0.\n",
      "  0.         0.         0.         0.         0.         0.\n",
      "  0.         0.         0.1372549  0.87058824 0.96078431 0.98039216\n",
      "  0.25490196 0.         0.         0.        ]\n",
      " [0.         0.         0.         0.         0.         0.01176471\n",
      "  0.16470588 0.19215686 0.04705882 0.14117647 0.1372549  0.11764706\n",
      "  0.10196078 0.08627451 0.08235294 0.08627451 0.08627451 0.0745098\n",
      "  0.07058824 0.0627451  0.         0.64705882 0.79607843 0.7372549\n",
      "  0.18039216 0.         0.         0.        ]\n",
      " [0.         0.         0.         0.         0.12941176 0.04705882\n",
      "  0.         0.         0.09019608 0.15686275 0.11372549 0.09019608\n",
      "  0.0745098  0.06666667 0.06666667 0.06666667 0.05882353 0.0627451\n",
      "  0.05098039 0.10588235 0.03529412 0.         0.         0.\n",
      "  0.         0.         0.         0.        ]\n",
      " [0.         0.         0.         0.         0.16862745 0.09803922\n",
      "  0.09019608 0.05490196 0.1372549  0.15294118 0.11764706 0.08235294\n",
      "  0.07843137 0.07058824 0.0627451  0.0627451  0.05882353 0.05882353\n",
      "  0.06666667 0.09803922 0.03921569 0.10196078 0.17254902 0.1254902\n",
      "  0.07058824 0.         0.         0.        ]\n",
      " [0.         0.         0.         0.         0.15686275 0.09411765\n",
      "  0.0745098  0.01176471 0.14901961 0.15294118 0.14117647 0.09019608\n",
      "  0.09803922 0.08627451 0.07843137 0.0745098  0.06666667 0.07058824\n",
      "  0.0745098  0.10980392 0.06666667 0.03921569 0.19215686 0.11764706\n",
      "  0.09803922 0.         0.         0.        ]\n",
      " [0.         0.         0.         0.         0.17254902 0.09803922\n",
      "  0.09803922 0.01568627 0.12941176 0.         0.         0.\n",
      "  0.         0.         0.         0.         0.         0.\n",
      "  0.         0.         0.         0.03137255 0.21176471 0.09411765\n",
      "  0.09411765 0.         0.         0.        ]\n",
      " [0.         0.         0.         0.         0.09803922 0.01960784\n",
      "  0.01176471 0.00784314 0.89019608 0.70980392 0.61568627 0.62745098\n",
      "  0.64313725 0.64313725 0.66666667 0.68235294 0.69803922 0.71764706\n",
      "  0.68627451 0.7372549  0.56078431 0.         0.2745098  0.10980392\n",
      "  0.10588235 0.         0.         0.        ]\n",
      " [0.         0.         0.         0.         0.10588235 0.\n",
      "  0.10588235 0.         1.         0.95294118 0.94509804 0.94901961\n",
      "  0.95686275 0.94901961 0.94901961 0.94509804 0.9372549  0.94117647\n",
      "  0.94509804 0.96862745 0.9372549  0.         0.14117647 0.\n",
      "  0.         0.         0.         0.        ]\n",
      " [0.         0.         0.         0.         0.75294118 1.\n",
      "  1.         0.         0.95294118 0.89019608 0.8745098  0.8627451\n",
      "  0.85882353 0.85882353 0.8745098  0.85882353 0.84705882 0.8627451\n",
      "  0.88235294 0.89411765 0.90588235 0.         0.8627451  0.60784314\n",
      "  0.28235294 0.         0.         0.        ]\n",
      " [0.         0.         0.         0.         0.70196078 0.9254902\n",
      "  0.93333333 0.         0.93333333 0.92941176 0.89019608 0.90196078\n",
      "  0.89803922 0.89803922 0.90588235 0.89411765 0.89019608 0.90980392\n",
      "  0.90980392 0.9372549  0.98039216 0.         1.         1.\n",
      "  0.61176471 0.         0.         0.        ]\n",
      " [0.         0.         0.         0.         0.65490196 0.91764706\n",
      "  0.87058824 0.         0.91372549 0.94117647 0.89803922 0.90196078\n",
      "  0.90196078 0.90196078 0.90196078 0.89411765 0.89803922 0.90980392\n",
      "  0.90980392 0.9254902  1.         0.         0.8        0.97254902\n",
      "  0.4627451  0.         0.         0.        ]\n",
      " [0.         0.         0.         0.         0.62745098 1.\n",
      "  0.83137255 0.         0.90588235 0.90588235 0.89019608 0.89019608\n",
      "  0.86666667 0.86666667 0.87058824 0.86666667 0.86666667 0.87843137\n",
      "  0.89411765 0.89411765 1.         0.         0.72941176 0.98431373\n",
      "  0.54901961 0.         0.         0.        ]\n",
      " [0.         0.         0.         0.         0.54117647 0.95294118\n",
      "  0.82745098 0.         0.91372549 1.         0.94509804 0.96078431\n",
      "  0.96078431 0.96078431 0.95686275 0.95686275 0.95686275 0.96862745\n",
      "  0.97254902 0.99215686 1.         0.         0.66666667 0.99607843\n",
      "  0.56862745 0.         0.         0.        ]\n",
      " [0.         0.         0.         0.         0.54117647 0.96078431\n",
      "  0.80784314 0.         0.16078431 0.63921569 0.65882353 0.6627451\n",
      "  0.62352941 0.60784314 0.64705882 0.63921569 0.65098039 0.59215686\n",
      "  0.55686275 0.58823529 0.56862745 0.         0.65098039 0.99607843\n",
      "  0.59215686 0.         0.         0.        ]\n",
      " [0.         0.         0.         0.         0.65882353 0.96470588\n",
      "  0.73333333 0.         0.         0.         0.         0.\n",
      "  0.         0.         0.         0.         0.         0.\n",
      "  0.         0.         0.         0.         0.6        0.99215686\n",
      "  0.58431373 0.         0.         0.        ]\n",
      " [0.         0.         0.         0.         0.70588235 0.98431373\n",
      "  0.75294118 0.         0.00392157 0.01176471 0.         0.\n",
      "  0.         0.00392157 0.         0.         0.         0.00392157\n",
      "  0.00784314 0.01176471 0.02745098 0.         0.63921569 1.\n",
      "  0.74901961 0.         0.         0.        ]\n",
      " [0.         0.         0.         0.         0.01568627 0.22745098\n",
      "  0.07843137 0.         0.         0.         0.         0.\n",
      "  0.         0.         0.         0.         0.         0.\n",
      "  0.         0.         0.00392157 0.         0.29803922 0.70980392\n",
      "  0.36078431 0.         0.         0.        ]]\n",
      "Elemento 125: [0.         0.         0.         0.         0.         0.\n",
      " 0.         0.         0.05098039 0.17647059 0.18823529 0.05490196\n",
      " 0.         0.         0.         0.         0.         0.18431373\n",
      " 0.20392157 0.12941176 0.00392157 0.         0.         0.00392157\n",
      " 0.         0.         0.         0.         0.         0.\n",
      " 0.         0.         0.00392157 0.         0.05098039 0.29411765\n",
      " 0.32941176 0.2627451  0.21568627 0.21568627 0.15294118 0.25098039\n",
      " 0.90196078 0.3254902  0.30980392 0.25882353 0.2        0.29019608\n",
      " 0.31372549 0.19215686 0.         0.         0.         0.\n",
      " 0.         0.         0.         0.         0.         0.\n",
      " 0.         0.00392157 0.29019608 0.18039216 0.13333333 0.09019608\n",
      " 0.07843137 0.06666667 0.04313725 0.03921569 0.09411765 0.01568627\n",
      " 0.00784314 0.03529412 0.11372549 0.1372549  0.14509804 0.23529412\n",
      " 0.2        0.         0.00392157 0.         0.         0.\n",
      " 0.         0.         0.         0.         0.         0.13333333\n",
      " 0.25490196 0.         0.         0.         0.         0.05098039\n",
      " 0.05490196 0.         0.         0.         0.         0.\n",
      " 0.         0.         0.         0.03921569 0.21568627 0.04313725\n",
      " 0.         0.         0.         0.         0.         0.\n",
      " 0.         0.         0.         0.22745098 0.0627451  0.11764706\n",
      " 0.79215686 0.9372549  1.         1.         1.         1.\n",
      " 1.         1.         0.99607843 0.91764706 0.84705882 0.72156863\n",
      " 0.38039216 0.         0.12156863 0.12941176 0.         0.\n",
      " 0.         0.         0.         0.         0.         0.\n",
      " 0.         0.25098039 0.         0.88235294 0.98431373 0.91372549\n",
      " 0.91764706 0.91372549 0.90980392 0.91372549 0.92156863 0.91764706\n",
      " 0.9254902  0.93333333 0.93333333 0.9372549  0.99607843 0.52941176\n",
      " 0.         0.20392157 0.         0.         0.         0.\n",
      " 0.         0.         0.         0.         0.         0.01176471\n",
      " 0.05098039 1.         0.86666667 0.88627451 0.89803922 0.90196078\n",
      " 0.89803922 0.89803922 0.90196078 0.89803922 0.89019608 0.88627451\n",
      " 0.8745098  0.8627451  0.89803922 0.95686275 0.         0.03921569\n",
      " 0.         0.         0.         0.         0.         0.\n",
      " 0.         0.         0.05490196 0.72156863 0.50196078 1.\n",
      " 0.87843137 0.88235294 0.90196078 0.90980392 0.90588235 0.90588235\n",
      " 0.90980392 0.90196078 0.90588235 0.90196078 0.89803922 0.87058824\n",
      " 0.91764706 1.         0.         0.30588235 0.         0.\n",
      " 0.         0.         0.         0.         0.         0.\n",
      " 0.         1.         0.91764706 0.91764706 0.87058824 0.85882353\n",
      " 0.86666667 0.85490196 0.8627451  0.8745098  0.8745098  0.87058824\n",
      " 0.8627451  0.85882353 0.8627451  0.85490196 0.91372549 0.89803922\n",
      " 0.92156863 1.         0.         0.         0.         0.\n",
      " 0.         0.         0.         0.         0.13333333 0.88235294\n",
      " 0.86666667 0.92156863 0.93333333 1.         1.         1.\n",
      " 1.         1.         1.         1.         1.         1.\n",
      " 1.         0.9372549  0.90196078 0.9372549  0.92941176 0.97647059\n",
      " 0.         0.         0.         0.         0.         0.\n",
      " 0.         0.         0.33333333 0.9254902  0.88235294 0.81960784\n",
      " 0.77254902 0.69803922 0.48235294 0.38823529 0.28235294 0.20392157\n",
      " 0.16470588 0.23529412 0.33333333 0.48235294 0.64313725 0.94509804\n",
      " 0.93333333 0.89411765 0.88235294 0.87843137 0.02745098 0.\n",
      " 0.         0.         0.         0.         0.         0.\n",
      " 0.38431373 0.87058824 0.96078431 0.83529412 0.         0.\n",
      " 0.         0.         0.         0.         0.         0.\n",
      " 0.         0.         0.         0.         0.1372549  0.87058824\n",
      " 0.96078431 0.98039216 0.25490196 0.         0.         0.\n",
      " 0.         0.         0.         0.         0.         0.01176471\n",
      " 0.16470588 0.19215686 0.04705882 0.14117647 0.1372549  0.11764706\n",
      " 0.10196078 0.08627451 0.08235294 0.08627451 0.08627451 0.0745098\n",
      " 0.07058824 0.0627451  0.         0.64705882 0.79607843 0.7372549\n",
      " 0.18039216 0.         0.         0.         0.         0.\n",
      " 0.         0.         0.12941176 0.04705882 0.         0.\n",
      " 0.09019608 0.15686275 0.11372549 0.09019608 0.0745098  0.06666667\n",
      " 0.06666667 0.06666667 0.05882353 0.0627451  0.05098039 0.10588235\n",
      " 0.03529412 0.         0.         0.         0.         0.\n",
      " 0.         0.         0.         0.         0.         0.\n",
      " 0.16862745 0.09803922 0.09019608 0.05490196 0.1372549  0.15294118\n",
      " 0.11764706 0.08235294 0.07843137 0.07058824 0.0627451  0.0627451\n",
      " 0.05882353 0.05882353 0.06666667 0.09803922 0.03921569 0.10196078\n",
      " 0.17254902 0.1254902  0.07058824 0.         0.         0.\n",
      " 0.         0.         0.         0.         0.15686275 0.09411765\n",
      " 0.0745098  0.01176471 0.14901961 0.15294118 0.14117647 0.09019608\n",
      " 0.09803922 0.08627451 0.07843137 0.0745098  0.06666667 0.07058824\n",
      " 0.0745098  0.10980392 0.06666667 0.03921569 0.19215686 0.11764706\n",
      " 0.09803922 0.         0.         0.         0.         0.\n",
      " 0.         0.         0.17254902 0.09803922 0.09803922 0.01568627\n",
      " 0.12941176 0.         0.         0.         0.         0.\n",
      " 0.         0.         0.         0.         0.         0.\n",
      " 0.         0.03137255 0.21176471 0.09411765 0.09411765 0.\n",
      " 0.         0.         0.         0.         0.         0.\n",
      " 0.09803922 0.01960784 0.01176471 0.00784314 0.89019608 0.70980392\n",
      " 0.61568627 0.62745098 0.64313725 0.64313725 0.66666667 0.68235294\n",
      " 0.69803922 0.71764706 0.68627451 0.7372549  0.56078431 0.\n",
      " 0.2745098  0.10980392 0.10588235 0.         0.         0.\n",
      " 0.         0.         0.         0.         0.10588235 0.\n",
      " 0.10588235 0.         1.         0.95294118 0.94509804 0.94901961\n",
      " 0.95686275 0.94901961 0.94901961 0.94509804 0.9372549  0.94117647\n",
      " 0.94509804 0.96862745 0.9372549  0.         0.14117647 0.\n",
      " 0.         0.         0.         0.         0.         0.\n",
      " 0.         0.         0.75294118 1.         1.         0.\n",
      " 0.95294118 0.89019608 0.8745098  0.8627451  0.85882353 0.85882353\n",
      " 0.8745098  0.85882353 0.84705882 0.8627451  0.88235294 0.89411765\n",
      " 0.90588235 0.         0.8627451  0.60784314 0.28235294 0.\n",
      " 0.         0.         0.         0.         0.         0.\n",
      " 0.70196078 0.9254902  0.93333333 0.         0.93333333 0.92941176\n",
      " 0.89019608 0.90196078 0.89803922 0.89803922 0.90588235 0.89411765\n",
      " 0.89019608 0.90980392 0.90980392 0.9372549  0.98039216 0.\n",
      " 1.         1.         0.61176471 0.         0.         0.\n",
      " 0.         0.         0.         0.         0.65490196 0.91764706\n",
      " 0.87058824 0.         0.91372549 0.94117647 0.89803922 0.90196078\n",
      " 0.90196078 0.90196078 0.90196078 0.89411765 0.89803922 0.90980392\n",
      " 0.90980392 0.9254902  1.         0.         0.8        0.97254902\n",
      " 0.4627451  0.         0.         0.         0.         0.\n",
      " 0.         0.         0.62745098 1.         0.83137255 0.\n",
      " 0.90588235 0.90588235 0.89019608 0.89019608 0.86666667 0.86666667\n",
      " 0.87058824 0.86666667 0.86666667 0.87843137 0.89411765 0.89411765\n",
      " 1.         0.         0.72941176 0.98431373 0.54901961 0.\n",
      " 0.         0.         0.         0.         0.         0.\n",
      " 0.54117647 0.95294118 0.82745098 0.         0.91372549 1.\n",
      " 0.94509804 0.96078431 0.96078431 0.96078431 0.95686275 0.95686275\n",
      " 0.95686275 0.96862745 0.97254902 0.99215686 1.         0.\n",
      " 0.66666667 0.99607843 0.56862745 0.         0.         0.\n",
      " 0.         0.         0.         0.         0.54117647 0.96078431\n",
      " 0.80784314 0.         0.16078431 0.63921569 0.65882353 0.6627451\n",
      " 0.62352941 0.60784314 0.64705882 0.63921569 0.65098039 0.59215686\n",
      " 0.55686275 0.58823529 0.56862745 0.         0.65098039 0.99607843\n",
      " 0.59215686 0.         0.         0.         0.         0.\n",
      " 0.         0.         0.65882353 0.96470588 0.73333333 0.\n",
      " 0.         0.         0.         0.         0.         0.\n",
      " 0.         0.         0.         0.         0.         0.\n",
      " 0.         0.         0.6        0.99215686 0.58431373 0.\n",
      " 0.         0.         0.         0.         0.         0.\n",
      " 0.70588235 0.98431373 0.75294118 0.         0.00392157 0.01176471\n",
      " 0.         0.         0.         0.00392157 0.         0.\n",
      " 0.         0.00392157 0.00784314 0.01176471 0.02745098 0.\n",
      " 0.63921569 1.         0.74901961 0.         0.         0.\n",
      " 0.         0.         0.         0.         0.01568627 0.22745098\n",
      " 0.07843137 0.         0.         0.         0.         0.\n",
      " 0.         0.         0.         0.         0.         0.\n",
      " 0.         0.         0.00392157 0.         0.29803922 0.70980392\n",
      " 0.36078431 0.         0.         0.        ]\n"
     ]
    }
   ],
   "execution_count": 12
  },
  {
   "cell_type": "code",
   "metadata": {
    "colab": {
     "base_uri": "https://localhost:8080/"
    },
    "id": "FQhixsjpZJOt",
    "outputId": "870e3f90-a2c8-4e58-fc38-b82957907b0c",
    "ExecuteTime": {
     "end_time": "2024-12-16T07:40:22.817610Z",
     "start_time": "2024-12-16T07:40:22.579572Z"
    }
   },
   "source": [
    "model = tf.keras.Sequential([\n",
    "    tf.keras.layers.Flatten(input_shape=(28, 28)),\n",
    "    tf.keras.layers.Dense(512, activation='relu', kernel_initializer='he_uniform'),\n",
    "    tf.keras.layers.Dense(10, activation='softmax')\n",
    "])"
   ],
   "outputs": [
    {
     "name": "stderr",
     "output_type": "stream",
     "text": [
      "C:\\Users\\j.b.sanchez.martinez\\AppData\\Local\\Programs\\Python\\Python312\\Lib\\site-packages\\keras\\src\\layers\\reshaping\\flatten.py:37: UserWarning: Do not pass an `input_shape`/`input_dim` argument to a layer. When using Sequential models, prefer using an `Input(shape)` object as the first layer in the model instead.\n",
      "  super().__init__(**kwargs)\n"
     ]
    }
   ],
   "execution_count": 13
  },
  {
   "cell_type": "code",
   "metadata": {
    "colab": {
     "base_uri": "https://localhost:8080/",
     "height": 225
    },
    "id": "J7cc_mt4ZTaS",
    "outputId": "7e8a7911-1a9b-4190-f5be-b6acc296a585",
    "ExecuteTime": {
     "end_time": "2024-12-16T07:40:22.888417Z",
     "start_time": "2024-12-16T07:40:22.847593Z"
    }
   },
   "source": [
    "model.summary()"
   ],
   "outputs": [
    {
     "data": {
      "text/plain": [
       "\u001B[1mModel: \"sequential\"\u001B[0m\n"
      ],
      "text/html": [
       "<pre style=\"white-space:pre;overflow-x:auto;line-height:normal;font-family:Menlo,'DejaVu Sans Mono',consolas,'Courier New',monospace\"><span style=\"font-weight: bold\">Model: \"sequential\"</span>\n",
       "</pre>\n"
      ]
     },
     "metadata": {},
     "output_type": "display_data"
    },
    {
     "data": {
      "text/plain": [
       "┏━━━━━━━━━━━━━━━━━━━━━━━━━━━━━━━━━┳━━━━━━━━━━━━━━━━━━━━━━━━┳━━━━━━━━━━━━━━━┓\n",
       "┃\u001B[1m \u001B[0m\u001B[1mLayer (type)                   \u001B[0m\u001B[1m \u001B[0m┃\u001B[1m \u001B[0m\u001B[1mOutput Shape          \u001B[0m\u001B[1m \u001B[0m┃\u001B[1m \u001B[0m\u001B[1m      Param #\u001B[0m\u001B[1m \u001B[0m┃\n",
       "┡━━━━━━━━━━━━━━━━━━━━━━━━━━━━━━━━━╇━━━━━━━━━━━━━━━━━━━━━━━━╇━━━━━━━━━━━━━━━┩\n",
       "│ flatten (\u001B[38;5;33mFlatten\u001B[0m)               │ (\u001B[38;5;45mNone\u001B[0m, \u001B[38;5;34m784\u001B[0m)            │             \u001B[38;5;34m0\u001B[0m │\n",
       "├─────────────────────────────────┼────────────────────────┼───────────────┤\n",
       "│ dense (\u001B[38;5;33mDense\u001B[0m)                   │ (\u001B[38;5;45mNone\u001B[0m, \u001B[38;5;34m512\u001B[0m)            │       \u001B[38;5;34m401,920\u001B[0m │\n",
       "├─────────────────────────────────┼────────────────────────┼───────────────┤\n",
       "│ dense_1 (\u001B[38;5;33mDense\u001B[0m)                 │ (\u001B[38;5;45mNone\u001B[0m, \u001B[38;5;34m10\u001B[0m)             │         \u001B[38;5;34m5,130\u001B[0m │\n",
       "└─────────────────────────────────┴────────────────────────┴───────────────┘\n"
      ],
      "text/html": [
       "<pre style=\"white-space:pre;overflow-x:auto;line-height:normal;font-family:Menlo,'DejaVu Sans Mono',consolas,'Courier New',monospace\">┏━━━━━━━━━━━━━━━━━━━━━━━━━━━━━━━━━┳━━━━━━━━━━━━━━━━━━━━━━━━┳━━━━━━━━━━━━━━━┓\n",
       "┃<span style=\"font-weight: bold\"> Layer (type)                    </span>┃<span style=\"font-weight: bold\"> Output Shape           </span>┃<span style=\"font-weight: bold\">       Param # </span>┃\n",
       "┡━━━━━━━━━━━━━━━━━━━━━━━━━━━━━━━━━╇━━━━━━━━━━━━━━━━━━━━━━━━╇━━━━━━━━━━━━━━━┩\n",
       "│ flatten (<span style=\"color: #0087ff; text-decoration-color: #0087ff\">Flatten</span>)               │ (<span style=\"color: #00d7ff; text-decoration-color: #00d7ff\">None</span>, <span style=\"color: #00af00; text-decoration-color: #00af00\">784</span>)            │             <span style=\"color: #00af00; text-decoration-color: #00af00\">0</span> │\n",
       "├─────────────────────────────────┼────────────────────────┼───────────────┤\n",
       "│ dense (<span style=\"color: #0087ff; text-decoration-color: #0087ff\">Dense</span>)                   │ (<span style=\"color: #00d7ff; text-decoration-color: #00d7ff\">None</span>, <span style=\"color: #00af00; text-decoration-color: #00af00\">512</span>)            │       <span style=\"color: #00af00; text-decoration-color: #00af00\">401,920</span> │\n",
       "├─────────────────────────────────┼────────────────────────┼───────────────┤\n",
       "│ dense_1 (<span style=\"color: #0087ff; text-decoration-color: #0087ff\">Dense</span>)                 │ (<span style=\"color: #00d7ff; text-decoration-color: #00d7ff\">None</span>, <span style=\"color: #00af00; text-decoration-color: #00af00\">10</span>)             │         <span style=\"color: #00af00; text-decoration-color: #00af00\">5,130</span> │\n",
       "└─────────────────────────────────┴────────────────────────┴───────────────┘\n",
       "</pre>\n"
      ]
     },
     "metadata": {},
     "output_type": "display_data"
    },
    {
     "data": {
      "text/plain": [
       "\u001B[1m Total params: \u001B[0m\u001B[38;5;34m407,050\u001B[0m (1.55 MB)\n"
      ],
      "text/html": [
       "<pre style=\"white-space:pre;overflow-x:auto;line-height:normal;font-family:Menlo,'DejaVu Sans Mono',consolas,'Courier New',monospace\"><span style=\"font-weight: bold\"> Total params: </span><span style=\"color: #00af00; text-decoration-color: #00af00\">407,050</span> (1.55 MB)\n",
       "</pre>\n"
      ]
     },
     "metadata": {},
     "output_type": "display_data"
    },
    {
     "data": {
      "text/plain": [
       "\u001B[1m Trainable params: \u001B[0m\u001B[38;5;34m407,050\u001B[0m (1.55 MB)\n"
      ],
      "text/html": [
       "<pre style=\"white-space:pre;overflow-x:auto;line-height:normal;font-family:Menlo,'DejaVu Sans Mono',consolas,'Courier New',monospace\"><span style=\"font-weight: bold\"> Trainable params: </span><span style=\"color: #00af00; text-decoration-color: #00af00\">407,050</span> (1.55 MB)\n",
       "</pre>\n"
      ]
     },
     "metadata": {},
     "output_type": "display_data"
    },
    {
     "data": {
      "text/plain": [
       "\u001B[1m Non-trainable params: \u001B[0m\u001B[38;5;34m0\u001B[0m (0.00 B)\n"
      ],
      "text/html": [
       "<pre style=\"white-space:pre;overflow-x:auto;line-height:normal;font-family:Menlo,'DejaVu Sans Mono',consolas,'Courier New',monospace\"><span style=\"font-weight: bold\"> Non-trainable params: </span><span style=\"color: #00af00; text-decoration-color: #00af00\">0</span> (0.00 B)\n",
       "</pre>\n"
      ]
     },
     "metadata": {},
     "output_type": "display_data"
    }
   ],
   "execution_count": 14
  },
  {
   "cell_type": "code",
   "metadata": {
    "colab": {
     "base_uri": "https://localhost:8080/"
    },
    "id": "5-6DpRHMZX5t",
    "outputId": "0094cbbb-61f1-41b4-9a06-a74612e72eea",
    "ExecuteTime": {
     "end_time": "2024-12-16T07:42:17.951799Z",
     "start_time": "2024-12-16T07:40:23.145884Z"
    }
   },
   "source": [
    "model.compile(optimizer='adam',\n",
    "              loss='sparse_categorical_crossentropy',\n",
    "              metrics=['accuracy'])\n",
    "\n",
    "model.fit(train_images, train_labels, batch_size=64, epochs=10)"
   ],
   "outputs": [
    {
     "name": "stdout",
     "output_type": "stream",
     "text": [
      "Epoch 1/10\n",
      "\u001B[1m938/938\u001B[0m \u001B[32m━━━━━━━━━━━━━━━━━━━━\u001B[0m\u001B[37m\u001B[0m \u001B[1m13s\u001B[0m 9ms/step - accuracy: 0.7899 - loss: 0.6009\n",
      "Epoch 2/10\n",
      "\u001B[1m938/938\u001B[0m \u001B[32m━━━━━━━━━━━━━━━━━━━━\u001B[0m\u001B[37m\u001B[0m \u001B[1m8s\u001B[0m 8ms/step - accuracy: 0.8648 - loss: 0.3726\n",
      "Epoch 3/10\n",
      "\u001B[1m938/938\u001B[0m \u001B[32m━━━━━━━━━━━━━━━━━━━━\u001B[0m\u001B[37m\u001B[0m \u001B[1m9s\u001B[0m 10ms/step - accuracy: 0.8766 - loss: 0.3322\n",
      "Epoch 4/10\n",
      "\u001B[1m938/938\u001B[0m \u001B[32m━━━━━━━━━━━━━━━━━━━━\u001B[0m\u001B[37m\u001B[0m \u001B[1m11s\u001B[0m 12ms/step - accuracy: 0.8887 - loss: 0.3028\n",
      "Epoch 5/10\n",
      "\u001B[1m938/938\u001B[0m \u001B[32m━━━━━━━━━━━━━━━━━━━━\u001B[0m\u001B[37m\u001B[0m \u001B[1m9s\u001B[0m 10ms/step - accuracy: 0.8957 - loss: 0.2822\n",
      "Epoch 6/10\n",
      "\u001B[1m938/938\u001B[0m \u001B[32m━━━━━━━━━━━━━━━━━━━━\u001B[0m\u001B[37m\u001B[0m \u001B[1m10s\u001B[0m 10ms/step - accuracy: 0.9014 - loss: 0.2670\n",
      "Epoch 7/10\n",
      "\u001B[1m938/938\u001B[0m \u001B[32m━━━━━━━━━━━━━━━━━━━━\u001B[0m\u001B[37m\u001B[0m \u001B[1m15s\u001B[0m 15ms/step - accuracy: 0.9062 - loss: 0.2541\n",
      "Epoch 8/10\n",
      "\u001B[1m938/938\u001B[0m \u001B[32m━━━━━━━━━━━━━━━━━━━━\u001B[0m\u001B[37m\u001B[0m \u001B[1m10s\u001B[0m 10ms/step - accuracy: 0.9139 - loss: 0.2327\n",
      "Epoch 9/10\n",
      "\u001B[1m938/938\u001B[0m \u001B[32m━━━━━━━━━━━━━━━━━━━━\u001B[0m\u001B[37m\u001B[0m \u001B[1m11s\u001B[0m 11ms/step - accuracy: 0.9129 - loss: 0.2282\n",
      "Epoch 10/10\n",
      "\u001B[1m938/938\u001B[0m \u001B[32m━━━━━━━━━━━━━━━━━━━━\u001B[0m\u001B[37m\u001B[0m \u001B[1m19s\u001B[0m 9ms/step - accuracy: 0.9176 - loss: 0.2181\n"
     ]
    },
    {
     "data": {
      "text/plain": [
       "<keras.src.callbacks.history.History at 0x162230343e0>"
      ]
     },
     "execution_count": 15,
     "metadata": {},
     "output_type": "execute_result"
    }
   ],
   "execution_count": 15
  },
  {
   "cell_type": "code",
   "metadata": {
    "colab": {
     "base_uri": "https://localhost:8080/"
    },
    "id": "JVredVRBZiN7",
    "outputId": "382658f4-1839-4f52-b43d-c5a1aec9a7fc",
    "ExecuteTime": {
     "end_time": "2024-12-16T07:42:21.326954Z",
     "start_time": "2024-12-16T07:42:18.037656Z"
    }
   },
   "source": [
    "test_loss, test_acc = model.evaluate(test_images,  test_labels, verbose=0)\n",
    "\n",
    "print('\\nTest loss:', test_loss)\n",
    "print('\\nTest accuracy:', test_acc)"
   ],
   "outputs": [
    {
     "name": "stdout",
     "output_type": "stream",
     "text": [
      "\n",
      "Test loss: 0.32857537269592285\n",
      "\n",
      "Test accuracy: 0.883400022983551\n"
     ]
    }
   ],
   "execution_count": 16
  },
  {
   "cell_type": "code",
   "metadata": {
    "colab": {
     "base_uri": "https://localhost:8080/"
    },
    "id": "ra6KudnEZ_PK",
    "outputId": "a90db947-7fa5-46ee-deca-8ad926ccf1da",
    "ExecuteTime": {
     "end_time": "2024-12-16T07:42:23.434585Z",
     "start_time": "2024-12-16T07:42:21.366991Z"
    }
   },
   "source": [
    "predictions = np.round(model.predict(test_images), 2)\n",
    "print(predictions[98])\n",
    "print(np.argmax(predictions[98]))\n",
    "\n",
    "print(test_labels[98])"
   ],
   "outputs": [
    {
     "name": "stdout",
     "output_type": "stream",
     "text": [
      "\u001B[1m313/313\u001B[0m \u001B[32m━━━━━━━━━━━━━━━━━━━━\u001B[0m\u001B[37m\u001B[0m \u001B[1m1s\u001B[0m 3ms/step\n",
      "[0.   0.   0.42 0.   0.47 0.   0.1  0.   0.   0.  ]\n",
      "4\n",
      "4\n"
     ]
    }
   ],
   "execution_count": 17
  },
  {
   "cell_type": "code",
   "metadata": {
    "id": "oQ6NbGD4bXOv",
    "ExecuteTime": {
     "end_time": "2024-12-16T07:42:24.524460Z",
     "start_time": "2024-12-16T07:42:23.456378Z"
    }
   },
   "source": [
    "model.save('fashion_mnist.keras')"
   ],
   "outputs": [],
   "execution_count": 18
  }
 ],
 "metadata": {
  "accelerator": "GPU",
  "colab": {
   "gpuType": "T4",
   "provenance": []
  },
  "kernelspec": {
   "display_name": "Python 3 (ipykernel)",
   "name": "python3",
   "language": "python"
  },
  "language_info": {
   "name": "python"
  }
 },
 "nbformat": 4,
 "nbformat_minor": 0
}
